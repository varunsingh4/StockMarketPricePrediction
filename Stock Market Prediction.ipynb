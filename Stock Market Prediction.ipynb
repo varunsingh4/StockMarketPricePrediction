{
 "cells": [
  {
   "cell_type": "code",
   "execution_count": 1,
   "metadata": {},
   "outputs": [
    {
     "name": "stdout",
     "output_type": "stream",
     "text": [
      "Requirement already satisfied: pandas_datareader in c:\\users\\91760\\anaconda3\\lib\\site-packages (0.9.0)\n",
      "Requirement already satisfied: requests>=2.19.0 in c:\\users\\91760\\anaconda3\\lib\\site-packages (from pandas_datareader) (2.24.0)\n",
      "Requirement already satisfied: pandas>=0.23 in c:\\users\\91760\\anaconda3\\lib\\site-packages (from pandas_datareader) (1.0.5)\n",
      "Requirement already satisfied: lxml in c:\\users\\91760\\anaconda3\\lib\\site-packages (from pandas_datareader) (4.5.2)\n",
      "Requirement already satisfied: idna<3,>=2.5 in c:\\users\\91760\\anaconda3\\lib\\site-packages (from requests>=2.19.0->pandas_datareader) (2.10)\n",
      "Requirement already satisfied: chardet<4,>=3.0.2 in c:\\users\\91760\\anaconda3\\lib\\site-packages (from requests>=2.19.0->pandas_datareader) (3.0.4)\n",
      "Requirement already satisfied: certifi>=2017.4.17 in c:\\users\\91760\\anaconda3\\lib\\site-packages (from requests>=2.19.0->pandas_datareader) (2020.12.5)\n",
      "Requirement already satisfied: urllib3!=1.25.0,!=1.25.1,<1.26,>=1.21.1 in c:\\users\\91760\\anaconda3\\lib\\site-packages (from requests>=2.19.0->pandas_datareader) (1.25.9)\n",
      "Requirement already satisfied: numpy>=1.13.3 in c:\\users\\91760\\anaconda3\\lib\\site-packages (from pandas>=0.23->pandas_datareader) (1.18.5)\n",
      "Requirement already satisfied: python-dateutil>=2.6.1 in c:\\users\\91760\\anaconda3\\lib\\site-packages (from pandas>=0.23->pandas_datareader) (2.8.1)\n",
      "Requirement already satisfied: pytz>=2017.2 in c:\\users\\91760\\anaconda3\\lib\\site-packages (from pandas>=0.23->pandas_datareader) (2020.1)\n",
      "Requirement already satisfied: six>=1.5 in c:\\users\\91760\\anaconda3\\lib\\site-packages (from python-dateutil>=2.6.1->pandas>=0.23->pandas_datareader) (1.15.0)\n",
      "Note: you may need to restart the kernel to use updated packages.\n"
     ]
    }
   ],
   "source": [
    "pip install pandas_datareader"
   ]
  },
  {
   "cell_type": "code",
   "execution_count": 2,
   "metadata": {},
   "outputs": [],
   "source": [
    "#Data Collection\n",
    "import pandas_datareader as pdr\n"
   ]
  },
  {
   "cell_type": "code",
   "execution_count": 3,
   "metadata": {},
   "outputs": [],
   "source": [
    "key='50f302337095406c90cb13892a2e230947a75e38'"
   ]
  },
  {
   "cell_type": "code",
   "execution_count": 4,
   "metadata": {},
   "outputs": [],
   "source": [
    "df=pdr.get_data_tiingo('AAPL',api_key=key)"
   ]
  },
  {
   "cell_type": "code",
   "execution_count": 5,
   "metadata": {},
   "outputs": [],
   "source": [
    "df.to_csv('AAPL.csv')"
   ]
  },
  {
   "cell_type": "code",
   "execution_count": 6,
   "metadata": {},
   "outputs": [],
   "source": [
    "import pandas as pd"
   ]
  },
  {
   "cell_type": "code",
   "execution_count": 7,
   "metadata": {},
   "outputs": [],
   "source": [
    "df=pd.read_csv('AAPL.csv')"
   ]
  },
  {
   "cell_type": "code",
   "execution_count": 8,
   "metadata": {},
   "outputs": [
    {
     "data": {
      "text/html": [
       "<div>\n",
       "<style scoped>\n",
       "    .dataframe tbody tr th:only-of-type {\n",
       "        vertical-align: middle;\n",
       "    }\n",
       "\n",
       "    .dataframe tbody tr th {\n",
       "        vertical-align: top;\n",
       "    }\n",
       "\n",
       "    .dataframe thead th {\n",
       "        text-align: right;\n",
       "    }\n",
       "</style>\n",
       "<table border=\"1\" class=\"dataframe\">\n",
       "  <thead>\n",
       "    <tr style=\"text-align: right;\">\n",
       "      <th></th>\n",
       "      <th>symbol</th>\n",
       "      <th>date</th>\n",
       "      <th>close</th>\n",
       "      <th>high</th>\n",
       "      <th>low</th>\n",
       "      <th>open</th>\n",
       "      <th>volume</th>\n",
       "      <th>adjClose</th>\n",
       "      <th>adjHigh</th>\n",
       "      <th>adjLow</th>\n",
       "      <th>adjOpen</th>\n",
       "      <th>adjVolume</th>\n",
       "      <th>divCash</th>\n",
       "      <th>splitFactor</th>\n",
       "    </tr>\n",
       "  </thead>\n",
       "  <tbody>\n",
       "    <tr>\n",
       "      <th>0</th>\n",
       "      <td>AAPL</td>\n",
       "      <td>2016-06-02 00:00:00+00:00</td>\n",
       "      <td>97.72</td>\n",
       "      <td>97.84</td>\n",
       "      <td>96.63</td>\n",
       "      <td>97.60</td>\n",
       "      <td>40191600</td>\n",
       "      <td>22.818934</td>\n",
       "      <td>22.846956</td>\n",
       "      <td>22.564404</td>\n",
       "      <td>22.790913</td>\n",
       "      <td>160766400</td>\n",
       "      <td>0.0</td>\n",
       "      <td>1.0</td>\n",
       "    </tr>\n",
       "    <tr>\n",
       "      <th>1</th>\n",
       "      <td>AAPL</td>\n",
       "      <td>2016-06-03 00:00:00+00:00</td>\n",
       "      <td>97.92</td>\n",
       "      <td>98.27</td>\n",
       "      <td>97.45</td>\n",
       "      <td>97.79</td>\n",
       "      <td>28504888</td>\n",
       "      <td>22.865637</td>\n",
       "      <td>22.947367</td>\n",
       "      <td>22.755885</td>\n",
       "      <td>22.835280</td>\n",
       "      <td>114019552</td>\n",
       "      <td>0.0</td>\n",
       "      <td>1.0</td>\n",
       "    </tr>\n",
       "    <tr>\n",
       "      <th>2</th>\n",
       "      <td>AAPL</td>\n",
       "      <td>2016-06-06 00:00:00+00:00</td>\n",
       "      <td>98.63</td>\n",
       "      <td>101.89</td>\n",
       "      <td>97.55</td>\n",
       "      <td>97.99</td>\n",
       "      <td>23292504</td>\n",
       "      <td>23.031431</td>\n",
       "      <td>23.792685</td>\n",
       "      <td>22.779237</td>\n",
       "      <td>22.881983</td>\n",
       "      <td>93170016</td>\n",
       "      <td>0.0</td>\n",
       "      <td>1.0</td>\n",
       "    </tr>\n",
       "    <tr>\n",
       "      <th>3</th>\n",
       "      <td>AAPL</td>\n",
       "      <td>2016-06-07 00:00:00+00:00</td>\n",
       "      <td>99.03</td>\n",
       "      <td>99.87</td>\n",
       "      <td>98.96</td>\n",
       "      <td>99.25</td>\n",
       "      <td>22409450</td>\n",
       "      <td>23.124837</td>\n",
       "      <td>23.320988</td>\n",
       "      <td>23.108491</td>\n",
       "      <td>23.176210</td>\n",
       "      <td>89637800</td>\n",
       "      <td>0.0</td>\n",
       "      <td>1.0</td>\n",
       "    </tr>\n",
       "    <tr>\n",
       "      <th>4</th>\n",
       "      <td>AAPL</td>\n",
       "      <td>2016-06-08 00:00:00+00:00</td>\n",
       "      <td>98.94</td>\n",
       "      <td>99.56</td>\n",
       "      <td>98.68</td>\n",
       "      <td>99.02</td>\n",
       "      <td>20848131</td>\n",
       "      <td>23.103821</td>\n",
       "      <td>23.248599</td>\n",
       "      <td>23.043107</td>\n",
       "      <td>23.122502</td>\n",
       "      <td>83392524</td>\n",
       "      <td>0.0</td>\n",
       "      <td>1.0</td>\n",
       "    </tr>\n",
       "  </tbody>\n",
       "</table>\n",
       "</div>"
      ],
      "text/plain": [
       "  symbol                       date  close    high    low   open    volume  \\\n",
       "0   AAPL  2016-06-02 00:00:00+00:00  97.72   97.84  96.63  97.60  40191600   \n",
       "1   AAPL  2016-06-03 00:00:00+00:00  97.92   98.27  97.45  97.79  28504888   \n",
       "2   AAPL  2016-06-06 00:00:00+00:00  98.63  101.89  97.55  97.99  23292504   \n",
       "3   AAPL  2016-06-07 00:00:00+00:00  99.03   99.87  98.96  99.25  22409450   \n",
       "4   AAPL  2016-06-08 00:00:00+00:00  98.94   99.56  98.68  99.02  20848131   \n",
       "\n",
       "    adjClose    adjHigh     adjLow    adjOpen  adjVolume  divCash  splitFactor  \n",
       "0  22.818934  22.846956  22.564404  22.790913  160766400      0.0          1.0  \n",
       "1  22.865637  22.947367  22.755885  22.835280  114019552      0.0          1.0  \n",
       "2  23.031431  23.792685  22.779237  22.881983   93170016      0.0          1.0  \n",
       "3  23.124837  23.320988  23.108491  23.176210   89637800      0.0          1.0  \n",
       "4  23.103821  23.248599  23.043107  23.122502   83392524      0.0          1.0  "
      ]
     },
     "execution_count": 8,
     "metadata": {},
     "output_type": "execute_result"
    }
   ],
   "source": [
    "df.head()"
   ]
  },
  {
   "cell_type": "code",
   "execution_count": 9,
   "metadata": {},
   "outputs": [
    {
     "data": {
      "text/html": [
       "<div>\n",
       "<style scoped>\n",
       "    .dataframe tbody tr th:only-of-type {\n",
       "        vertical-align: middle;\n",
       "    }\n",
       "\n",
       "    .dataframe tbody tr th {\n",
       "        vertical-align: top;\n",
       "    }\n",
       "\n",
       "    .dataframe thead th {\n",
       "        text-align: right;\n",
       "    }\n",
       "</style>\n",
       "<table border=\"1\" class=\"dataframe\">\n",
       "  <thead>\n",
       "    <tr style=\"text-align: right;\">\n",
       "      <th></th>\n",
       "      <th>symbol</th>\n",
       "      <th>date</th>\n",
       "      <th>close</th>\n",
       "      <th>high</th>\n",
       "      <th>low</th>\n",
       "      <th>open</th>\n",
       "      <th>volume</th>\n",
       "      <th>adjClose</th>\n",
       "      <th>adjHigh</th>\n",
       "      <th>adjLow</th>\n",
       "      <th>adjOpen</th>\n",
       "      <th>adjVolume</th>\n",
       "      <th>divCash</th>\n",
       "      <th>splitFactor</th>\n",
       "    </tr>\n",
       "  </thead>\n",
       "  <tbody>\n",
       "    <tr>\n",
       "      <th>1252</th>\n",
       "      <td>AAPL</td>\n",
       "      <td>2021-05-24 00:00:00+00:00</td>\n",
       "      <td>127.10</td>\n",
       "      <td>127.94</td>\n",
       "      <td>125.94</td>\n",
       "      <td>126.010</td>\n",
       "      <td>63092945</td>\n",
       "      <td>127.10</td>\n",
       "      <td>127.94</td>\n",
       "      <td>125.94</td>\n",
       "      <td>126.010</td>\n",
       "      <td>63092945</td>\n",
       "      <td>0.0</td>\n",
       "      <td>1.0</td>\n",
       "    </tr>\n",
       "    <tr>\n",
       "      <th>1253</th>\n",
       "      <td>AAPL</td>\n",
       "      <td>2021-05-25 00:00:00+00:00</td>\n",
       "      <td>126.90</td>\n",
       "      <td>128.32</td>\n",
       "      <td>126.32</td>\n",
       "      <td>127.820</td>\n",
       "      <td>72009482</td>\n",
       "      <td>126.90</td>\n",
       "      <td>128.32</td>\n",
       "      <td>126.32</td>\n",
       "      <td>127.820</td>\n",
       "      <td>72009482</td>\n",
       "      <td>0.0</td>\n",
       "      <td>1.0</td>\n",
       "    </tr>\n",
       "    <tr>\n",
       "      <th>1254</th>\n",
       "      <td>AAPL</td>\n",
       "      <td>2021-05-26 00:00:00+00:00</td>\n",
       "      <td>126.85</td>\n",
       "      <td>127.39</td>\n",
       "      <td>126.42</td>\n",
       "      <td>126.955</td>\n",
       "      <td>56575920</td>\n",
       "      <td>126.85</td>\n",
       "      <td>127.39</td>\n",
       "      <td>126.42</td>\n",
       "      <td>126.955</td>\n",
       "      <td>56575920</td>\n",
       "      <td>0.0</td>\n",
       "      <td>1.0</td>\n",
       "    </tr>\n",
       "    <tr>\n",
       "      <th>1255</th>\n",
       "      <td>AAPL</td>\n",
       "      <td>2021-05-27 00:00:00+00:00</td>\n",
       "      <td>125.28</td>\n",
       "      <td>127.64</td>\n",
       "      <td>125.08</td>\n",
       "      <td>126.440</td>\n",
       "      <td>94625601</td>\n",
       "      <td>125.28</td>\n",
       "      <td>127.64</td>\n",
       "      <td>125.08</td>\n",
       "      <td>126.440</td>\n",
       "      <td>94625601</td>\n",
       "      <td>0.0</td>\n",
       "      <td>1.0</td>\n",
       "    </tr>\n",
       "    <tr>\n",
       "      <th>1256</th>\n",
       "      <td>AAPL</td>\n",
       "      <td>2021-05-28 00:00:00+00:00</td>\n",
       "      <td>124.61</td>\n",
       "      <td>125.80</td>\n",
       "      <td>124.55</td>\n",
       "      <td>125.570</td>\n",
       "      <td>71311109</td>\n",
       "      <td>124.61</td>\n",
       "      <td>125.80</td>\n",
       "      <td>124.55</td>\n",
       "      <td>125.570</td>\n",
       "      <td>71311109</td>\n",
       "      <td>0.0</td>\n",
       "      <td>1.0</td>\n",
       "    </tr>\n",
       "  </tbody>\n",
       "</table>\n",
       "</div>"
      ],
      "text/plain": [
       "     symbol                       date   close    high     low     open  \\\n",
       "1252   AAPL  2021-05-24 00:00:00+00:00  127.10  127.94  125.94  126.010   \n",
       "1253   AAPL  2021-05-25 00:00:00+00:00  126.90  128.32  126.32  127.820   \n",
       "1254   AAPL  2021-05-26 00:00:00+00:00  126.85  127.39  126.42  126.955   \n",
       "1255   AAPL  2021-05-27 00:00:00+00:00  125.28  127.64  125.08  126.440   \n",
       "1256   AAPL  2021-05-28 00:00:00+00:00  124.61  125.80  124.55  125.570   \n",
       "\n",
       "        volume  adjClose  adjHigh  adjLow  adjOpen  adjVolume  divCash  \\\n",
       "1252  63092945    127.10   127.94  125.94  126.010   63092945      0.0   \n",
       "1253  72009482    126.90   128.32  126.32  127.820   72009482      0.0   \n",
       "1254  56575920    126.85   127.39  126.42  126.955   56575920      0.0   \n",
       "1255  94625601    125.28   127.64  125.08  126.440   94625601      0.0   \n",
       "1256  71311109    124.61   125.80  124.55  125.570   71311109      0.0   \n",
       "\n",
       "      splitFactor  \n",
       "1252          1.0  \n",
       "1253          1.0  \n",
       "1254          1.0  \n",
       "1255          1.0  \n",
       "1256          1.0  "
      ]
     },
     "execution_count": 9,
     "metadata": {},
     "output_type": "execute_result"
    }
   ],
   "source": [
    "df.tail()"
   ]
  },
  {
   "cell_type": "code",
   "execution_count": 10,
   "metadata": {},
   "outputs": [],
   "source": [
    "df2=df.reset_index()['close']"
   ]
  },
  {
   "cell_type": "code",
   "execution_count": 11,
   "metadata": {},
   "outputs": [
    {
     "data": {
      "text/plain": [
       "0    97.72\n",
       "1    97.92\n",
       "2    98.63\n",
       "3    99.03\n",
       "4    98.94\n",
       "Name: close, dtype: float64"
      ]
     },
     "execution_count": 11,
     "metadata": {},
     "output_type": "execute_result"
    }
   ],
   "source": [
    "df2.head()"
   ]
  },
  {
   "cell_type": "code",
   "execution_count": 12,
   "metadata": {},
   "outputs": [
    {
     "data": {
      "text/plain": [
       "1228    133.11\n",
       "1229    133.50\n",
       "1230    131.94\n",
       "1231    134.32\n",
       "1232    134.72\n",
       "1233    134.39\n",
       "1234    133.58\n",
       "1235    133.48\n",
       "1236    131.46\n",
       "1237    132.54\n",
       "1238    127.85\n",
       "1239    128.10\n",
       "1240    129.74\n",
       "1241    130.21\n",
       "1242    126.85\n",
       "1243    125.91\n",
       "1244    122.77\n",
       "1245    124.97\n",
       "1246    127.45\n",
       "1247    126.27\n",
       "1248    124.85\n",
       "1249    124.69\n",
       "1250    127.31\n",
       "1251    125.43\n",
       "1252    127.10\n",
       "1253    126.90\n",
       "1254    126.85\n",
       "1255    125.28\n",
       "1256    124.61\n",
       "Name: close, dtype: float64"
      ]
     },
     "execution_count": 12,
     "metadata": {},
     "output_type": "execute_result"
    }
   ],
   "source": [
    "df2[1228:]"
   ]
  },
  {
   "cell_type": "code",
   "execution_count": 13,
   "metadata": {},
   "outputs": [
    {
     "data": {
      "text/plain": [
       "(1257,)"
      ]
     },
     "execution_count": 13,
     "metadata": {},
     "output_type": "execute_result"
    }
   ],
   "source": [
    "df2.shape"
   ]
  },
  {
   "cell_type": "code",
   "execution_count": 14,
   "metadata": {},
   "outputs": [
    {
     "data": {
      "text/plain": [
       "0        97.72\n",
       "1        97.92\n",
       "2        98.63\n",
       "3        99.03\n",
       "4        98.94\n",
       "         ...  \n",
       "1252    127.10\n",
       "1253    126.90\n",
       "1254    126.85\n",
       "1255    125.28\n",
       "1256    124.61\n",
       "Name: close, Length: 1257, dtype: float64"
      ]
     },
     "execution_count": 14,
     "metadata": {},
     "output_type": "execute_result"
    }
   ],
   "source": [
    "df2"
   ]
  },
  {
   "cell_type": "code",
   "execution_count": 15,
   "metadata": {},
   "outputs": [
    {
     "data": {
      "text/plain": [
       "[<matplotlib.lines.Line2D at 0x29d7474e2b0>]"
      ]
     },
     "execution_count": 15,
     "metadata": {},
     "output_type": "execute_result"
    },
    {
     "data": {
      "image/png": "[encoded data removed]",
      "text/plain": [
       "<Figure size 432x288 with 1 Axes>"
      ]
     },
     "metadata": {
      "needs_background": "light"
     },
     "output_type": "display_data"
    }
   ],
   "source": [
    "import matplotlib.pyplot as plt\n",
    "plt.plot(df2)"
   ]
  },
  {
   "cell_type": "code",
   "execution_count": 16,
   "metadata": {},
   "outputs": [],
   "source": [
    "##LSTM Are sensitive to the scaling of data so we use minMaxScaler"
   ]
  },
  {
   "cell_type": "code",
   "execution_count": 17,
   "metadata": {},
   "outputs": [],
   "source": [
    "import numpy as np"
   ]
  },
  {
   "cell_type": "code",
   "execution_count": 18,
   "metadata": {},
   "outputs": [],
   "source": [
    "from sklearn.preprocessing import MinMaxScaler\n",
    "scaler=MinMaxScaler(feature_range=(0,1))\n",
    "df2=scaler.fit_transform(np.array(df2).reshape(-1,1))"
   ]
  },
  {
   "cell_type": "code",
   "execution_count": 19,
   "metadata": {},
   "outputs": [
    {
     "data": {
      "text/plain": [
       "(1257, 1)"
      ]
     },
     "execution_count": 19,
     "metadata": {},
     "output_type": "execute_result"
    }
   ],
   "source": [
    "df2.shape"
   ]
  },
  {
   "cell_type": "code",
   "execution_count": 20,
   "metadata": {},
   "outputs": [],
   "source": [
    "#Spliting the data into train and test\n",
    "training_size=int(len(df2)*0.65)\n",
    "test_size=len(df2)-training_size\n",
    "train_data,test_data=df2[0:training_size,:],df2[training_size:len(df2),:1]"
   ]
  },
  {
   "cell_type": "code",
   "execution_count": 21,
   "metadata": {},
   "outputs": [
    {
     "data": {
      "text/plain": [
       "(817, 1)"
      ]
     },
     "execution_count": 21,
     "metadata": {},
     "output_type": "execute_result"
    }
   ],
   "source": [
    "train_data.shape"
   ]
  },
  {
   "cell_type": "code",
   "execution_count": 22,
   "metadata": {},
   "outputs": [
    {
     "data": {
      "text/plain": [
       "(440, 1)"
      ]
     },
     "execution_count": 22,
     "metadata": {},
     "output_type": "execute_result"
    }
   ],
   "source": [
    "test_data.shape"
   ]
  },
  {
   "cell_type": "code",
   "execution_count": 23,
   "metadata": {},
   "outputs": [],
   "source": [
    "# Data preprocessing converting train_data to labels\n",
    "import numpy\n",
    "#Convert an array of values into a dataset matrix\n",
    "def create_dataset(dataset,time_step=1):\n",
    "    dataX, dataY=[],[]\n",
    "    for i in range(len(dataset)-time_step-1):\n",
    "        a=dataset[i: (i+time_step),0] ###i=0 ,0,1,2,3\n",
    "        dataX.append(a)\n",
    "        dataY.append(dataset[i+time_step,0])\n",
    "    return numpy.array(dataX), numpy.array(dataY)\n",
    "        \n"
   ]
  },
  {
   "cell_type": "code",
   "execution_count": 24,
   "metadata": {},
   "outputs": [],
   "source": [
    "time_step=100\n",
    "X_train,Y_train=create_dataset(train_data,time_step)\n",
    "X_test,ytest=create_dataset(test_data, time_step)"
   ]
  },
  {
   "cell_type": "code",
   "execution_count": 25,
   "metadata": {},
   "outputs": [
    {
     "name": "stdout",
     "output_type": "stream",
     "text": [
      "[[0.01371815 0.01420118 0.01591595 ... 0.06057239 0.06042748 0.05931651]\n",
      " [0.01420118 0.01591595 0.01688202 ... 0.06042748 0.05931651 0.06185243]\n",
      " [0.01591595 0.01688202 0.01666465 ... 0.05931651 0.06185243 0.06330153]\n",
      " ...\n",
      " [0.24951093 0.25033209 0.25349595 ... 0.29126917 0.29083444 0.2671175 ]\n",
      " [0.25033209 0.25349595 0.26098297 ... 0.29083444 0.2671175  0.27641589]\n",
      " [0.25349595 0.26098297 0.25953387 ... 0.2671175  0.27641589 0.27078855]]\n"
     ]
    }
   ],
   "source": [
    "print(X_train)"
   ]
  },
  {
   "cell_type": "code",
   "execution_count": 26,
   "metadata": {},
   "outputs": [
    {
     "name": "stdout",
     "output_type": "stream",
     "text": [
      "(339, 100)\n"
     ]
    }
   ],
   "source": [
    "print(X_test.shape)"
   ]
  },
  {
   "cell_type": "code",
   "execution_count": 27,
   "metadata": {},
   "outputs": [
    {
     "name": "stdout",
     "output_type": "stream",
     "text": [
      "(339,)\n"
     ]
    }
   ],
   "source": [
    "print(ytest.shape)"
   ]
  },
  {
   "cell_type": "code",
   "execution_count": 28,
   "metadata": {},
   "outputs": [
    {
     "name": "stdout",
     "output_type": "stream",
     "text": [
      "(716, 100)\n"
     ]
    }
   ],
   "source": [
    "print(X_train.shape)"
   ]
  },
  {
   "cell_type": "code",
   "execution_count": 29,
   "metadata": {},
   "outputs": [
    {
     "name": "stdout",
     "output_type": "stream",
     "text": [
      "(716,)\n"
     ]
    }
   ],
   "source": [
    "print(Y_train.shape)"
   ]
  },
  {
   "cell_type": "code",
   "execution_count": 30,
   "metadata": {},
   "outputs": [],
   "source": [
    "X_train=X_train.reshape(X_train.shape[0],X_train.shape[1],1)\n",
    "X_test=X_test.reshape(X_test.shape[0],X_test.shape[1],1)"
   ]
  },
  {
   "cell_type": "code",
   "execution_count": 31,
   "metadata": {},
   "outputs": [],
   "source": [
    "#reshape input to be [samples,time steps,features] which is required for LSTM\n",
    "from tensorflow.keras.models import Sequential\n",
    "from tensorflow.keras.layers import Dense\n",
    "from tensorflow.keras.layers import LSTM\n"
   ]
  },
  {
   "cell_type": "code",
   "execution_count": 32,
   "metadata": {},
   "outputs": [],
   "source": [
    "model=Sequential()\n",
    "model.add(LSTM(50,return_sequences=True,input_shape=(100,1)))\n",
    "model.add(LSTM(50,return_sequences=True))\n",
    "model.add(LSTM(50))\n",
    "model.add(Dense(1))\n",
    "model.compile(loss='mean_squared_error',optimizer='adam')"
   ]
  },
  {
   "cell_type": "code",
   "execution_count": 33,
   "metadata": {},
   "outputs": [
    {
     "name": "stdout",
     "output_type": "stream",
     "text": [
      "Model: \"sequential\"\n",
      "_________________________________________________________________\n",
      "Layer (type)                 Output Shape              Param #   \n",
      "=================================================================\n",
      "lstm (LSTM)                  (None, 100, 50)           10400     \n",
      "_________________________________________________________________\n",
      "lstm_1 (LSTM)                (None, 100, 50)           20200     \n",
      "_________________________________________________________________\n",
      "lstm_2 (LSTM)                (None, 50)                20200     \n",
      "_________________________________________________________________\n",
      "dense (Dense)                (None, 1)                 51        \n",
      "=================================================================\n",
      "Total params: 50,851\n",
      "Trainable params: 50,851\n",
      "Non-trainable params: 0\n",
      "_________________________________________________________________\n"
     ]
    }
   ],
   "source": [
    "model.summary()"
   ]
  },
  {
   "cell_type": "code",
   "execution_count": 34,
   "metadata": {},
   "outputs": [
    {
     "name": "stdout",
     "output_type": "stream",
     "text": [
      "Epoch 1/100\n",
      "23/23 [==============================] - 6s 253ms/step - loss: 0.0077 - val_loss: 0.0301\n",
      "Epoch 2/100\n",
      "23/23 [==============================] - 4s 160ms/step - loss: 0.0013 - val_loss: 0.0234\n",
      "Epoch 3/100\n",
      "23/23 [==============================] - 4s 162ms/step - loss: 5.2112e-04 - val_loss: 0.0209\n",
      "Epoch 4/100\n",
      "23/23 [==============================] - 4s 164ms/step - loss: 4.5398e-04 - val_loss: 0.0196\n",
      "Epoch 5/100\n",
      "23/23 [==============================] - 4s 162ms/step - loss: 4.4066e-04 - val_loss: 0.0191\n",
      "Epoch 6/100\n",
      "23/23 [==============================] - 4s 159ms/step - loss: 4.0058e-04 - val_loss: 0.0175\n",
      "Epoch 7/100\n",
      "23/23 [==============================] - 4s 161ms/step - loss: 3.7503e-04 - val_loss: 0.0165\n",
      "Epoch 8/100\n",
      "23/23 [==============================] - 4s 161ms/step - loss: 3.2383e-04 - val_loss: 0.0157\n",
      "Epoch 9/100\n",
      "23/23 [==============================] - 4s 160ms/step - loss: 2.9881e-04 - val_loss: 0.0154\n",
      "Epoch 10/100\n",
      "23/23 [==============================] - 4s 161ms/step - loss: 2.7092e-04 - val_loss: 0.0155\n",
      "Epoch 11/100\n",
      "23/23 [==============================] - 4s 160ms/step - loss: 2.9804e-04 - val_loss: 0.0156\n",
      "Epoch 12/100\n",
      "23/23 [==============================] - 4s 161ms/step - loss: 2.7070e-04 - val_loss: 0.0151\n",
      "Epoch 13/100\n",
      "23/23 [==============================] - 4s 162ms/step - loss: 2.9866e-04 - val_loss: 0.0143\n",
      "Epoch 14/100\n",
      "23/23 [==============================] - 4s 160ms/step - loss: 3.1618e-04 - val_loss: 0.0153\n",
      "Epoch 15/100\n",
      "23/23 [==============================] - 4s 159ms/step - loss: 2.4545e-04 - val_loss: 0.0139\n",
      "Epoch 16/100\n",
      "23/23 [==============================] - 4s 162ms/step - loss: 2.4031e-04 - val_loss: 0.0137\n",
      "Epoch 17/100\n",
      "23/23 [==============================] - 4s 159ms/step - loss: 2.4350e-04 - val_loss: 0.0133\n",
      "Epoch 18/100\n",
      "23/23 [==============================] - 4s 162ms/step - loss: 2.6433e-04 - val_loss: 0.0133\n",
      "Epoch 19/100\n",
      "23/23 [==============================] - 4s 166ms/step - loss: 2.2987e-04 - val_loss: 0.0130\n",
      "Epoch 20/100\n",
      "23/23 [==============================] - 4s 158ms/step - loss: 2.4727e-04 - val_loss: 0.0128\n",
      "Epoch 21/100\n",
      "23/23 [==============================] - 4s 157ms/step - loss: 2.4038e-04 - val_loss: 0.0127\n",
      "Epoch 22/100\n",
      "23/23 [==============================] - 4s 159ms/step - loss: 2.1297e-04 - val_loss: 0.0121\n",
      "Epoch 23/100\n",
      "23/23 [==============================] - 4s 161ms/step - loss: 1.9769e-04 - val_loss: 0.0120\n",
      "Epoch 24/100\n",
      "23/23 [==============================] - 4s 160ms/step - loss: 1.9834e-04 - val_loss: 0.0116\n",
      "Epoch 25/100\n",
      "23/23 [==============================] - 4s 160ms/step - loss: 2.0890e-04 - val_loss: 0.0118\n",
      "Epoch 26/100\n",
      "23/23 [==============================] - 4s 160ms/step - loss: 2.3978e-04 - val_loss: 0.0110\n",
      "Epoch 27/100\n",
      "23/23 [==============================] - 4s 160ms/step - loss: 1.8827e-04 - val_loss: 0.0109\n",
      "Epoch 28/100\n",
      "23/23 [==============================] - 4s 162ms/step - loss: 1.9745e-04 - val_loss: 0.0107\n",
      "Epoch 29/100\n",
      "23/23 [==============================] - 4s 161ms/step - loss: 1.7953e-04 - val_loss: 0.0107\n",
      "Epoch 30/100\n",
      "23/23 [==============================] - 4s 160ms/step - loss: 1.9364e-04 - val_loss: 0.0104\n",
      "Epoch 31/100\n",
      "23/23 [==============================] - 4s 161ms/step - loss: 1.7172e-04 - val_loss: 0.0100\n",
      "Epoch 32/100\n",
      "23/23 [==============================] - 4s 158ms/step - loss: 1.7928e-04 - val_loss: 0.0098\n",
      "Epoch 33/100\n",
      "23/23 [==============================] - 4s 160ms/step - loss: 1.8637e-04 - val_loss: 0.0095\n",
      "Epoch 34/100\n",
      "23/23 [==============================] - 4s 159ms/step - loss: 1.7002e-04 - val_loss: 0.0096\n",
      "Epoch 35/100\n",
      "23/23 [==============================] - 4s 160ms/step - loss: 1.7372e-04 - val_loss: 0.0091\n",
      "Epoch 36/100\n",
      "23/23 [==============================] - 4s 162ms/step - loss: 1.7955e-04 - val_loss: 0.0087\n",
      "Epoch 37/100\n",
      "23/23 [==============================] - 4s 159ms/step - loss: 1.5521e-04 - val_loss: 0.0088\n",
      "Epoch 38/100\n",
      "23/23 [==============================] - 4s 160ms/step - loss: 1.8035e-04 - val_loss: 0.0091\n",
      "Epoch 39/100\n",
      "23/23 [==============================] - 4s 161ms/step - loss: 1.8530e-04 - val_loss: 0.0081\n",
      "Epoch 40/100\n",
      "23/23 [==============================] - 4s 159ms/step - loss: 1.6544e-04 - val_loss: 0.0081\n",
      "Epoch 41/100\n",
      "23/23 [==============================] - 4s 164ms/step - loss: 1.5199e-04 - val_loss: 0.0083\n",
      "Epoch 42/100\n",
      "23/23 [==============================] - 4s 160ms/step - loss: 1.5255e-04 - val_loss: 0.0079\n",
      "Epoch 43/100\n",
      "23/23 [==============================] - 4s 157ms/step - loss: 1.3594e-04 - val_loss: 0.0075\n",
      "Epoch 44/100\n",
      "23/23 [==============================] - 4s 157ms/step - loss: 1.4275e-04 - val_loss: 0.0072\n",
      "Epoch 45/100\n",
      "23/23 [==============================] - 4s 158ms/step - loss: 1.3391e-04 - val_loss: 0.0071\n",
      "Epoch 46/100\n",
      "23/23 [==============================] - 4s 158ms/step - loss: 1.4026e-04 - val_loss: 0.0068\n",
      "Epoch 47/100\n",
      "23/23 [==============================] - 4s 161ms/step - loss: 1.3731e-04 - val_loss: 0.0067\n",
      "Epoch 48/100\n",
      "23/23 [==============================] - 4s 159ms/step - loss: 1.4368e-04 - val_loss: 0.0068\n",
      "Epoch 49/100\n",
      "23/23 [==============================] - 4s 162ms/step - loss: 1.3489e-04 - val_loss: 0.0069\n",
      "Epoch 50/100\n",
      "23/23 [==============================] - 4s 156ms/step - loss: 1.5281e-04 - val_loss: 0.0063\n",
      "Epoch 51/100\n",
      "23/23 [==============================] - 4s 157ms/step - loss: 1.4319e-04 - val_loss: 0.0063\n",
      "Epoch 52/100\n",
      "23/23 [==============================] - 4s 159ms/step - loss: 1.2858e-04 - val_loss: 0.0060\n",
      "Epoch 53/100\n",
      "23/23 [==============================] - 4s 159ms/step - loss: 1.1579e-04 - val_loss: 0.0059\n",
      "Epoch 54/100\n",
      "23/23 [==============================] - 4s 163ms/step - loss: 1.2529e-04 - val_loss: 0.0060\n",
      "Epoch 55/100\n",
      "23/23 [==============================] - 4s 164ms/step - loss: 1.2091e-04 - val_loss: 0.0058\n",
      "Epoch 56/100\n",
      "23/23 [==============================] - 4s 180ms/step - loss: 1.1640e-04 - val_loss: 0.0059\n",
      "Epoch 57/100\n",
      "23/23 [==============================] - 4s 177ms/step - loss: 1.0977e-04 - val_loss: 0.0056\n",
      "Epoch 58/100\n",
      "23/23 [==============================] - 4s 157ms/step - loss: 1.1335e-04 - val_loss: 0.0055\n",
      "Epoch 59/100\n",
      "23/23 [==============================] - 4s 156ms/step - loss: 1.2020e-04 - val_loss: 0.0053\n",
      "Epoch 60/100\n",
      "23/23 [==============================] - 4s 158ms/step - loss: 1.0989e-04 - val_loss: 0.0058\n",
      "Epoch 61/100\n",
      "23/23 [==============================] - 4s 159ms/step - loss: 1.1252e-04 - val_loss: 0.0055\n",
      "Epoch 62/100\n",
      "23/23 [==============================] - 4s 154ms/step - loss: 1.0412e-04 - val_loss: 0.0051\n",
      "Epoch 63/100\n",
      "23/23 [==============================] - 4s 157ms/step - loss: 1.0347e-04 - val_loss: 0.0050\n",
      "Epoch 64/100\n",
      "23/23 [==============================] - 4s 156ms/step - loss: 1.1129e-04 - val_loss: 0.0053\n",
      "Epoch 65/100\n",
      "23/23 [==============================] - 4s 158ms/step - loss: 1.1415e-04 - val_loss: 0.0048\n",
      "Epoch 66/100\n",
      "23/23 [==============================] - 4s 166ms/step - loss: 1.0248e-04 - val_loss: 0.0048\n",
      "Epoch 67/100\n",
      "23/23 [==============================] - 4s 157ms/step - loss: 9.9881e-05 - val_loss: 0.0047\n",
      "Epoch 68/100\n",
      "23/23 [==============================] - 4s 157ms/step - loss: 1.1190e-04 - val_loss: 0.0047\n",
      "Epoch 69/100\n",
      "23/23 [==============================] - 4s 164ms/step - loss: 1.1704e-04 - val_loss: 0.0048\n",
      "Epoch 70/100\n",
      "23/23 [==============================] - 4s 173ms/step - loss: 1.2046e-04 - val_loss: 0.0045\n",
      "Epoch 71/100\n",
      "23/23 [==============================] - 4s 159ms/step - loss: 1.1587e-04 - val_loss: 0.0048\n",
      "Epoch 72/100\n",
      "23/23 [==============================] - 4s 158ms/step - loss: 1.2022e-04 - val_loss: 0.0043\n",
      "Epoch 73/100\n",
      "23/23 [==============================] - 4s 159ms/step - loss: 9.6822e-05 - val_loss: 0.0043\n",
      "Epoch 74/100\n",
      "23/23 [==============================] - 4s 159ms/step - loss: 1.0223e-04 - val_loss: 0.0043\n",
      "Epoch 75/100\n",
      "23/23 [==============================] - 4s 158ms/step - loss: 9.9448e-05 - val_loss: 0.0042\n",
      "Epoch 76/100\n",
      "23/23 [==============================] - 4s 159ms/step - loss: 9.8793e-05 - val_loss: 0.0041\n",
      "Epoch 77/100\n",
      "23/23 [==============================] - 4s 161ms/step - loss: 9.7334e-05 - val_loss: 0.0041\n",
      "Epoch 78/100\n"
     ]
    },
    {
     "name": "stdout",
     "output_type": "stream",
     "text": [
      "23/23 [==============================] - 4s 155ms/step - loss: 1.0221e-04 - val_loss: 0.0041\n",
      "Epoch 79/100\n",
      "23/23 [==============================] - 4s 156ms/step - loss: 9.3876e-05 - val_loss: 0.0039\n",
      "Epoch 80/100\n",
      "23/23 [==============================] - 4s 160ms/step - loss: 9.0319e-05 - val_loss: 0.0039\n",
      "Epoch 81/100\n",
      "23/23 [==============================] - 4s 157ms/step - loss: 9.7869e-05 - val_loss: 0.0041\n",
      "Epoch 82/100\n",
      "23/23 [==============================] - 4s 157ms/step - loss: 1.1827e-04 - val_loss: 0.0038\n",
      "Epoch 83/100\n",
      "23/23 [==============================] - 4s 158ms/step - loss: 8.9883e-05 - val_loss: 0.0038\n",
      "Epoch 84/100\n",
      "23/23 [==============================] - 4s 160ms/step - loss: 1.0277e-04 - val_loss: 0.0042\n",
      "Epoch 85/100\n",
      "23/23 [==============================] - 4s 158ms/step - loss: 9.6934e-05 - val_loss: 0.0038\n",
      "Epoch 86/100\n",
      "23/23 [==============================] - 4s 160ms/step - loss: 8.5728e-05 - val_loss: 0.0040\n",
      "Epoch 87/100\n",
      "23/23 [==============================] - 4s 166ms/step - loss: 8.6409e-05 - val_loss: 0.0037\n",
      "Epoch 88/100\n",
      "23/23 [==============================] - 4s 168ms/step - loss: 9.8190e-05 - val_loss: 0.0036\n",
      "Epoch 89/100\n",
      "23/23 [==============================] - 4s 160ms/step - loss: 9.1911e-05 - val_loss: 0.0038\n",
      "Epoch 90/100\n",
      "23/23 [==============================] - 4s 154ms/step - loss: 8.1522e-05 - val_loss: 0.0037\n",
      "Epoch 91/100\n",
      "23/23 [==============================] - 4s 158ms/step - loss: 8.2054e-05 - val_loss: 0.0035\n",
      "Epoch 92/100\n",
      "23/23 [==============================] - 4s 160ms/step - loss: 8.2033e-05 - val_loss: 0.0035\n",
      "Epoch 93/100\n",
      "23/23 [==============================] - 4s 157ms/step - loss: 8.4370e-05 - val_loss: 0.0034\n",
      "Epoch 94/100\n",
      "23/23 [==============================] - 4s 154ms/step - loss: 9.0238e-05 - val_loss: 0.0035\n",
      "Epoch 95/100\n",
      "23/23 [==============================] - 4s 156ms/step - loss: 8.9443e-05 - val_loss: 0.0035\n",
      "Epoch 96/100\n",
      "23/23 [==============================] - 4s 161ms/step - loss: 8.6231e-05 - val_loss: 0.0034\n",
      "Epoch 97/100\n",
      "23/23 [==============================] - 4s 156ms/step - loss: 8.4405e-05 - val_loss: 0.0035\n",
      "Epoch 98/100\n",
      "23/23 [==============================] - 4s 155ms/step - loss: 8.2331e-05 - val_loss: 0.0034\n",
      "Epoch 99/100\n",
      "23/23 [==============================] - 4s 157ms/step - loss: 8.4589e-05 - val_loss: 0.0033\n",
      "Epoch 100/100\n",
      "23/23 [==============================] - 4s 158ms/step - loss: 8.0634e-05 - val_loss: 0.0032\n"
     ]
    },
    {
     "data": {
      "text/plain": [
       "<tensorflow.python.keras.callbacks.History at 0x29d0cce5400>"
      ]
     },
     "execution_count": 34,
     "metadata": {},
     "output_type": "execute_result"
    }
   ],
   "source": [
    "model.fit(X_train,Y_train,validation_data=(X_test,ytest),epochs=100,verbose=1)"
   ]
  },
  {
   "cell_type": "code",
   "execution_count": 35,
   "metadata": {},
   "outputs": [],
   "source": [
    "import tensorflow as tf"
   ]
  },
  {
   "cell_type": "code",
   "execution_count": 36,
   "metadata": {},
   "outputs": [
    {
     "data": {
      "text/plain": [
       "'2.3.0'"
      ]
     },
     "execution_count": 36,
     "metadata": {},
     "output_type": "execute_result"
    }
   ],
   "source": [
    "tf.__version__"
   ]
  },
  {
   "cell_type": "code",
   "execution_count": 37,
   "metadata": {},
   "outputs": [],
   "source": [
    "train_predict=model.predict(X_train)\n",
    "test_predict=model.predict(X_test)"
   ]
  },
  {
   "cell_type": "code",
   "execution_count": 38,
   "metadata": {},
   "outputs": [],
   "source": [
    "#Transformation to original form\n",
    "train_predict=scaler.inverse_transform(train_predict)\n",
    "test_predict=scaler.inverse_transform(test_predict)"
   ]
  },
  {
   "cell_type": "code",
   "execution_count": 41,
   "metadata": {},
   "outputs": [
    {
     "data": {
      "text/plain": [
       "244.14587286483845"
      ]
     },
     "execution_count": 41,
     "metadata": {},
     "output_type": "execute_result"
    }
   ],
   "source": [
    "#Calculation of RMSE\n",
    "import math\n",
    "from sklearn.metrics import mean_squared_error\n",
    "math.sqrt(mean_squared_error(ytest,test_predict))"
   ]
  },
  {
   "cell_type": "code",
   "execution_count": 42,
   "metadata": {},
   "outputs": [
    {
     "data": {
      "text/plain": [
       "172.08337451306863"
      ]
     },
     "execution_count": 42,
     "metadata": {},
     "output_type": "execute_result"
    }
   ],
   "source": [
    "math.sqrt(mean_squared_error(Y_train,train_predict))"
   ]
  },
  {
   "cell_type": "code",
   "execution_count": 47,
   "metadata": {},
   "outputs": [
    {
     "data": {
      "image/png": "[encoded data removed]",
      "text/plain": [
       "<Figure size 432x288 with 1 Axes>"
      ]
     },
     "metadata": {
      "needs_background": "light"
     },
     "output_type": "display_data"
    }
   ],
   "source": [
    "###Plotting\n",
    "# Shift train predictions for plotting\n",
    "look_back=100\n",
    "trainPredictPlot=numpy.empty_like(df2)\n",
    "trainPredictPlot[:,:]=np.nan\n",
    "trainPredictPlot[look_back:len(train_predict)+look_back,:]=train_predict\n",
    "#Shift  test prediction for plotting\n",
    "testPredictPlot=numpy.empty_like(df2)\n",
    "testPredictPlot[:,:]=numpy.nan\n",
    "testPredictPlot[len(train_predict)+(look_back*2)+1:len(df2)-1, :]=test_predict\n",
    "#plot baseline and predictions\n",
    "plt.plot(scaler.inverse_transform(df2))\n",
    "plt.plot(trainPredictPlot)\n",
    "plt.plot(testPredictPlot)\n",
    "plt.show()\n"
   ]
  },
  {
   "cell_type": "code",
   "execution_count": null,
   "metadata": {},
   "outputs": [],
   "source": []
  }
 ],
 "metadata": {
  "kernelspec": {
   "display_name": "Python 3",
   "language": "python",
   "name": "python3"
  },
  "language_info": {
   "codemirror_mode": {
    "name": "ipython",
    "version": 3
   },
   "file_extension": ".py",
   "mimetype": "text/x-python",
   "name": "python",
   "nbconvert_exporter": "python",
   "pygments_lexer": "ipython3",
   "version": "3.8.3"
  }
 },
 "nbformat": 4,
 "nbformat_minor": 4
}
